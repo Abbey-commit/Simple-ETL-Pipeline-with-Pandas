{
 "cells": [
  {
   "cell_type": "markdown",
   "id": "05f65c29",
   "metadata": {},
   "source": [
    "## Project - Building a simple ETL Pipeline (CSV into Postgre Database)\n",
    " Step 1: Extract the data from the CSV file and load it into a Pandas Dataframe\n",
    ". Step 2: Transform the data (Remove duplicates, missing data, run calculations etc)\n",
    ". Step 3: Create a database \n",
    ". Step 4: Load the transformed data into the database"
   ]
  },
  {
   "cell_type": "code",
   "execution_count": 1,
   "id": "3fc2dd28",
   "metadata": {},
   "outputs": [],
   "source": [
    "# Import libraries\n",
    "import pandas as pd # For data transformation, manipulation, analysis, calculation, visualisation etc\n",
    "import psycopg2 # For connecting python to the databse\n",
    "from sqlalchemy import create_engine # To efficiently manaage and reuse database connection"
   ]
  },
  {
   "cell_type": "code",
   "execution_count": 2,
   "id": "11e6e915",
   "metadata": {},
   "outputs": [],
   "source": [
    "#Step 1: Extract the data from the CSV file and load it into a Pandas Dataframe .\n",
    "data = pd.read_csv(r\"C:\\Users\\user\\data2bots1\\simple_etl_project1\\customer sheet(1).csv\", encoding='ISO-8859-1')"
   ]
  },
  {
   "cell_type": "code",
   "execution_count": 3,
   "id": "9467254e",
   "metadata": {},
   "outputs": [
    {
     "data": {
      "text/html": [
       "<div>\n",
       "<style scoped>\n",
       "    .dataframe tbody tr th:only-of-type {\n",
       "        vertical-align: middle;\n",
       "    }\n",
       "\n",
       "    .dataframe tbody tr th {\n",
       "        vertical-align: top;\n",
       "    }\n",
       "\n",
       "    .dataframe thead th {\n",
       "        text-align: right;\n",
       "    }\n",
       "</style>\n",
       "<table border=\"1\" class=\"dataframe\">\n",
       "  <thead>\n",
       "    <tr style=\"text-align: right;\">\n",
       "      <th></th>\n",
       "      <th>CustomerID</th>\n",
       "      <th>CustomerName</th>\n",
       "      <th>ContactName</th>\n",
       "      <th>Address</th>\n",
       "      <th>City</th>\n",
       "      <th>PostalCode</th>\n",
       "      <th>Country</th>\n",
       "    </tr>\n",
       "  </thead>\n",
       "  <tbody>\n",
       "    <tr>\n",
       "      <th>0</th>\n",
       "      <td>1</td>\n",
       "      <td>Alfreds Futterkiste</td>\n",
       "      <td>Maria Anders</td>\n",
       "      <td>Obere Str. 57</td>\n",
       "      <td>Berlin</td>\n",
       "      <td>12209</td>\n",
       "      <td>Germany</td>\n",
       "    </tr>\n",
       "    <tr>\n",
       "      <th>1</th>\n",
       "      <td>2</td>\n",
       "      <td>Ana Trujillo Emparedados y helados</td>\n",
       "      <td>Ana Trujillo</td>\n",
       "      <td>Avda. de la Constitución 2222</td>\n",
       "      <td>México D.F.</td>\n",
       "      <td>5021</td>\n",
       "      <td>Mexico</td>\n",
       "    </tr>\n",
       "    <tr>\n",
       "      <th>2</th>\n",
       "      <td>3</td>\n",
       "      <td>Antonio Moreno Taquería</td>\n",
       "      <td>Antonio Moreno</td>\n",
       "      <td>Mataderos 2312</td>\n",
       "      <td>México D.F.</td>\n",
       "      <td>5023</td>\n",
       "      <td>Mexico</td>\n",
       "    </tr>\n",
       "    <tr>\n",
       "      <th>3</th>\n",
       "      <td>4</td>\n",
       "      <td>Around the Horn</td>\n",
       "      <td>Thomas Hardy</td>\n",
       "      <td>120 Hanover Sq.</td>\n",
       "      <td>London</td>\n",
       "      <td>WA1 1DP</td>\n",
       "      <td>UK</td>\n",
       "    </tr>\n",
       "    <tr>\n",
       "      <th>4</th>\n",
       "      <td>5</td>\n",
       "      <td>Berglunds snabbköp</td>\n",
       "      <td>Christina Berglund</td>\n",
       "      <td>Berguvsvägen 8</td>\n",
       "      <td>Luleå</td>\n",
       "      <td>S-958 22</td>\n",
       "      <td>Sweden</td>\n",
       "    </tr>\n",
       "  </tbody>\n",
       "</table>\n",
       "</div>"
      ],
      "text/plain": [
       "   CustomerID                        CustomerName         ContactName  \\\n",
       "0           1                 Alfreds Futterkiste        Maria Anders   \n",
       "1           2  Ana Trujillo Emparedados y helados        Ana Trujillo   \n",
       "2           3             Antonio Moreno Taquería      Antonio Moreno   \n",
       "3           4                     Around the Horn        Thomas Hardy   \n",
       "4           5                  Berglunds snabbköp  Christina Berglund   \n",
       "\n",
       "                         Address         City PostalCode  Country  \n",
       "0                  Obere Str. 57       Berlin      12209  Germany  \n",
       "1  Avda. de la Constitución 2222  México D.F.       5021   Mexico  \n",
       "2                 Mataderos 2312  México D.F.       5023   Mexico  \n",
       "3                120 Hanover Sq.       London    WA1 1DP       UK  \n",
       "4                 Berguvsvägen 8        Luleå   S-958 22   Sweden  "
      ]
     },
     "execution_count": 3,
     "metadata": {},
     "output_type": "execute_result"
    }
   ],
   "source": [
    "# view the top 5 rows in the data\n",
    "data.head()"
   ]
  },
  {
   "cell_type": "code",
   "execution_count": 4,
   "id": "f9c88b46",
   "metadata": {},
   "outputs": [
    {
     "data": {
      "text/html": [
       "<div>\n",
       "<style scoped>\n",
       "    .dataframe tbody tr th:only-of-type {\n",
       "        vertical-align: middle;\n",
       "    }\n",
       "\n",
       "    .dataframe tbody tr th {\n",
       "        vertical-align: top;\n",
       "    }\n",
       "\n",
       "    .dataframe thead th {\n",
       "        text-align: right;\n",
       "    }\n",
       "</style>\n",
       "<table border=\"1\" class=\"dataframe\">\n",
       "  <thead>\n",
       "    <tr style=\"text-align: right;\">\n",
       "      <th></th>\n",
       "      <th>CustomerID</th>\n",
       "      <th>CustomerName</th>\n",
       "      <th>ContactName</th>\n",
       "      <th>Address</th>\n",
       "      <th>City</th>\n",
       "      <th>PostalCode</th>\n",
       "      <th>Country</th>\n",
       "    </tr>\n",
       "  </thead>\n",
       "  <tbody>\n",
       "    <tr>\n",
       "      <th>86</th>\n",
       "      <td>87</td>\n",
       "      <td>Wartian Herkku</td>\n",
       "      <td>Pirkko Koskitalo</td>\n",
       "      <td>Torikatu 38</td>\n",
       "      <td>Oulu</td>\n",
       "      <td>90110</td>\n",
       "      <td>Finland</td>\n",
       "    </tr>\n",
       "    <tr>\n",
       "      <th>87</th>\n",
       "      <td>88</td>\n",
       "      <td>Wellington Importadora</td>\n",
       "      <td>Paula Parente</td>\n",
       "      <td>Rua do Mercado, 12</td>\n",
       "      <td>Resende</td>\n",
       "      <td>08737-363</td>\n",
       "      <td>Brazil</td>\n",
       "    </tr>\n",
       "    <tr>\n",
       "      <th>88</th>\n",
       "      <td>89</td>\n",
       "      <td>White Clover Markets</td>\n",
       "      <td>Karl Jablonski</td>\n",
       "      <td>305 - 14th Ave. S. Suite 3B</td>\n",
       "      <td>Seattle</td>\n",
       "      <td>98128</td>\n",
       "      <td>USA</td>\n",
       "    </tr>\n",
       "    <tr>\n",
       "      <th>89</th>\n",
       "      <td>90</td>\n",
       "      <td>Wilman Kala</td>\n",
       "      <td>Matti Karttunen</td>\n",
       "      <td>Keskuskatu 45</td>\n",
       "      <td>Helsinki</td>\n",
       "      <td>21240</td>\n",
       "      <td>Finland</td>\n",
       "    </tr>\n",
       "    <tr>\n",
       "      <th>90</th>\n",
       "      <td>91</td>\n",
       "      <td>Wolski</td>\n",
       "      <td>Zbyszek</td>\n",
       "      <td>ul. Filtrowa 68</td>\n",
       "      <td>Walla</td>\n",
       "      <td>12-Jan</td>\n",
       "      <td>Poland</td>\n",
       "    </tr>\n",
       "  </tbody>\n",
       "</table>\n",
       "</div>"
      ],
      "text/plain": [
       "    CustomerID            CustomerName       ContactName  \\\n",
       "86          87          Wartian Herkku  Pirkko Koskitalo   \n",
       "87          88  Wellington Importadora     Paula Parente   \n",
       "88          89    White Clover Markets    Karl Jablonski   \n",
       "89          90             Wilman Kala   Matti Karttunen   \n",
       "90          91                  Wolski           Zbyszek   \n",
       "\n",
       "                        Address      City PostalCode  Country  \n",
       "86                  Torikatu 38      Oulu      90110  Finland  \n",
       "87           Rua do Mercado, 12   Resende  08737-363   Brazil  \n",
       "88  305 - 14th Ave. S. Suite 3B   Seattle      98128      USA  \n",
       "89                Keskuskatu 45  Helsinki      21240  Finland  \n",
       "90              ul. Filtrowa 68     Walla     12-Jan   Poland  "
      ]
     },
     "execution_count": 4,
     "metadata": {},
     "output_type": "execute_result"
    }
   ],
   "source": [
    "data.tail()"
   ]
  },
  {
   "cell_type": "code",
   "execution_count": 5,
   "id": "1b4870a8",
   "metadata": {},
   "outputs": [
    {
     "name": "stdout",
     "output_type": "stream",
     "text": [
      "<class 'pandas.core.frame.DataFrame'>\n",
      "RangeIndex: 91 entries, 0 to 90\n",
      "Data columns (total 7 columns):\n",
      " #   Column        Non-Null Count  Dtype \n",
      "---  ------        --------------  ----- \n",
      " 0   CustomerID    91 non-null     int64 \n",
      " 1   CustomerName  91 non-null     object\n",
      " 2   ContactName   91 non-null     object\n",
      " 3   Address       91 non-null     object\n",
      " 4   City          91 non-null     object\n",
      " 5   PostalCode    88 non-null     object\n",
      " 6   Country       91 non-null     object\n",
      "dtypes: int64(1), object(6)\n",
      "memory usage: 5.1+ KB\n"
     ]
    }
   ],
   "source": [
    "# providing a general overview of the data\n",
    "data.info()"
   ]
  },
  {
   "cell_type": "code",
   "execution_count": 6,
   "id": "be5d2544",
   "metadata": {},
   "outputs": [
    {
     "data": {
      "text/plain": [
       "CustomerID      0\n",
       "CustomerName    0\n",
       "ContactName     0\n",
       "Address         0\n",
       "City            0\n",
       "PostalCode      3\n",
       "Country         0\n",
       "dtype: int64"
      ]
     },
     "execution_count": 6,
     "metadata": {},
     "output_type": "execute_result"
    }
   ],
   "source": [
    "# Explore missing data within your data\n",
    "data.isnull().sum()"
   ]
  },
  {
   "cell_type": "code",
   "execution_count": 8,
   "id": "19c9d852",
   "metadata": {},
   "outputs": [
    {
     "data": {
      "text/html": [
       "<div>\n",
       "<style scoped>\n",
       "    .dataframe tbody tr th:only-of-type {\n",
       "        vertical-align: middle;\n",
       "    }\n",
       "\n",
       "    .dataframe tbody tr th {\n",
       "        vertical-align: top;\n",
       "    }\n",
       "\n",
       "    .dataframe thead th {\n",
       "        text-align: right;\n",
       "    }\n",
       "</style>\n",
       "<table border=\"1\" class=\"dataframe\">\n",
       "  <thead>\n",
       "    <tr style=\"text-align: right;\">\n",
       "      <th></th>\n",
       "      <th>CustomerID</th>\n",
       "      <th>CustomerName</th>\n",
       "      <th>ContactName</th>\n",
       "      <th>Address</th>\n",
       "      <th>City</th>\n",
       "      <th>PostalCode</th>\n",
       "      <th>Country</th>\n",
       "    </tr>\n",
       "  </thead>\n",
       "  <tbody>\n",
       "    <tr>\n",
       "      <th>22</th>\n",
       "      <td>23</td>\n",
       "      <td>Folies gourmandes</td>\n",
       "      <td>Martine Rancé</td>\n",
       "      <td>184, chaussée de Tournai</td>\n",
       "      <td>Lille</td>\n",
       "      <td>NaN</td>\n",
       "      <td>France</td>\n",
       "    </tr>\n",
       "    <tr>\n",
       "      <th>33</th>\n",
       "      <td>34</td>\n",
       "      <td>Hanari Carnes</td>\n",
       "      <td>Mario Pontes</td>\n",
       "      <td>Rua do Paço, 67</td>\n",
       "      <td>Rio de Janeiro</td>\n",
       "      <td>NaN</td>\n",
       "      <td>Brazil</td>\n",
       "    </tr>\n",
       "    <tr>\n",
       "      <th>36</th>\n",
       "      <td>37</td>\n",
       "      <td>Hungry Owl All-Night Grocers</td>\n",
       "      <td>Patricia McKenna</td>\n",
       "      <td>8 Johnstown Road</td>\n",
       "      <td>Cork</td>\n",
       "      <td>NaN</td>\n",
       "      <td>Ireland</td>\n",
       "    </tr>\n",
       "  </tbody>\n",
       "</table>\n",
       "</div>"
      ],
      "text/plain": [
       "    CustomerID                  CustomerName       ContactName  \\\n",
       "22          23             Folies gourmandes     Martine Rancé   \n",
       "33          34                 Hanari Carnes      Mario Pontes   \n",
       "36          37  Hungry Owl All-Night Grocers  Patricia McKenna   \n",
       "\n",
       "                     Address            City PostalCode  Country  \n",
       "22  184, chaussée de Tournai           Lille        NaN   France  \n",
       "33           Rua do Paço, 67  Rio de Janeiro        NaN   Brazil  \n",
       "36          8 Johnstown Road            Cork        NaN  Ireland  "
      ]
     },
     "execution_count": 8,
     "metadata": {},
     "output_type": "execute_result"
    }
   ],
   "source": [
    "# Let's take a look at the missing data in postacode column\n",
    "data[data['PostalCode'].isnull()]"
   ]
  },
  {
   "cell_type": "code",
   "execution_count": 11,
   "id": "8e7df778",
   "metadata": {},
   "outputs": [],
   "source": [
    "# Fill in the missing data in the postacode column\n",
    "\n",
    "data['PostalCode'].fillna('Unknown', inplace=True)"
   ]
  },
  {
   "cell_type": "code",
   "execution_count": 12,
   "id": "b955606d",
   "metadata": {},
   "outputs": [
    {
     "data": {
      "text/plain": [
       "CustomerID      0\n",
       "CustomerName    0\n",
       "ContactName     0\n",
       "Address         0\n",
       "City            0\n",
       "PostalCode      0\n",
       "Country         0\n",
       "dtype: int64"
      ]
     },
     "execution_count": 12,
     "metadata": {},
     "output_type": "execute_result"
    }
   ],
   "source": [
    "data.isnull().sum()"
   ]
  },
  {
   "cell_type": "code",
   "execution_count": 23,
   "id": "7d715e7a",
   "metadata": {},
   "outputs": [],
   "source": [
    "#load the dataset into the database\n",
    "\n",
    "# Database credentials\n",
    "db_username = 'postgres'\n",
    "db_password = \"abbey4$POSTGRE\"\n",
    "db_host = 'localhost'\n",
    "db_port = 5432\n",
    "db_name = '10nalitics simple etl project'"
   ]
  },
  {
   "cell_type": "code",
   "execution_count": 24,
   "id": "174511d2",
   "metadata": {},
   "outputs": [],
   "source": [
    "# Establish a connection using SQLAlchemy engine\n",
    "\n",
    "connection = create_engine(f'postgresql://{db_username}:{db_password}@{db_host}:{db_port}/{db_name}')"
   ]
  },
  {
   "cell_type": "code",
   "execution_count": 25,
   "id": "bc28d306",
   "metadata": {},
   "outputs": [],
   "source": [
    "# Load the database into the postgres database\n",
    "data.to_sql('emp_table', connection, if_exists='replace', index=False)\n",
    "\n",
    "# Close the connection\n",
    "connection.dispose()"
   ]
  },
  {
   "cell_type": "code",
   "execution_count": null,
   "id": "3ebf3249",
   "metadata": {},
   "outputs": [],
   "source": []
  }
 ],
 "metadata": {
  "kernelspec": {
   "display_name": "Python 3 (ipykernel)",
   "language": "python",
   "name": "python3"
  },
  "language_info": {
   "codemirror_mode": {
    "name": "ipython",
    "version": 3
   },
   "file_extension": ".py",
   "mimetype": "text/x-python",
   "name": "python",
   "nbconvert_exporter": "python",
   "pygments_lexer": "ipython3",
   "version": "3.9.13"
  }
 },
 "nbformat": 4,
 "nbformat_minor": 5
}
